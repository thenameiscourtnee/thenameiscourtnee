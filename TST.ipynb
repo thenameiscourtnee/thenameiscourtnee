{
  "nbformat": 4,
  "nbformat_minor": 0,
  "metadata": {
    "colab": {
      "name": "TST.ipynb",
      "provenance": [],
      "collapsed_sections": [],
      "include_colab_link": true
    },
    "kernelspec": {
      "name": "python3",
      "display_name": "Python 3"
    }
  },
  "cells": [
    {
      "cell_type": "markdown",
      "metadata": {
        "id": "view-in-github",
        "colab_type": "text"
      },
      "source": [
        "<a href=\"https://colab.research.google.com/github/thenameiscourtnee/thenameiscourtnee/blob/main/TST.ipynb\" target=\"_parent\"><img src=\"https://colab.research.google.com/assets/colab-badge.svg\" alt=\"Open In Colab\"/></a>"
      ]
    },
    {
      "cell_type": "code",
      "metadata": {
        "id": "mT4KU7_X9YR9"
      },
      "source": [
        "import numpy as np\n",
        "from matplotlib import pyplot as plt"
      ],
      "execution_count": null,
      "outputs": []
    },
    {
      "cell_type": "markdown",
      "metadata": {
        "id": "d8ND83NW9ar4"
      },
      "source": [
        "## Transition State Theory applied to the H-C-N to C-N-H isomerization\n",
        "Key equations:\n",
        "\n",
        "Change in concentration of reactants / products over time:\n",
        "\\begin{equation}\n",
        "-\\frac{d [R](t)}{dt} = \\frac{d [P](t)}{dt} = k_2 K^{\\ddagger} [R](t)\n",
        "\\end{equation}\n",
        "where \n",
        "\\begin{equation}\n",
        "K^{\\ddagger} = \\frac{[TS]}{[R]}.\n",
        "\\end{equation}\n",
        "\n",
        "These rate equations give a simple exponential growth and decay of products and reactants, respectively:\n",
        "\\begin{equation}\n",
        "[P](t) = [R]_0 \\left(1 -  {\\rm exp}\\left(- k_2 K^{\\ddagger} t \\right) \\right)\n",
        "\\end{equation}\n",
        "and \n",
        "\\begin{equation}\n",
        "[R](t) = [R]_0 \\: {\\rm exp}\\left(- k_2 K^{\\ddagger} t \\right).\n",
        "\\end{equation}\n",
        "\n",
        "\n",
        "### Question 1: Confirm that the expression for the concentration of the reactants as a function of time (equation 4) satisfies the rate equation (equation 1).\n",
        "\n",
        "\n"
      ]
    },
    {
      "cell_type": "markdown",
      "metadata": {
        "id": "mdrVXIXKCqlU"
      },
      "source": [
        "The equilibrium constant $K^{\\ddagger}$ can be computed from the partition functions of the transition state and the reactant structure:\n",
        "\\begin{equation}\n",
        "K^{\\ddagger} = \\frac{q_{TS}}{q_R} \\: {\\rm exp}\\left( \\frac{E_{TS} - E_R}{k_B T}\\right).\n",
        "\\end{equation}\n",
        "Here we will approximate the total partition function for the reactants as a product of the vibrational partition function for the $r$ degree of freedom and the $\\gamma$ degree of freedom at the reactant geometry, where the $r$ degree of freedom is a localized vibrational mode involving the displacement of the H atom and $\\gamma$ is the H-C-N bond angle and is also the reaction coordinate:\n",
        "\\begin{equation}\n",
        "q_R = q_r q_{\\gamma}.\n",
        "\\end{equation} \n",
        "We will approximate the total partition function for the transition state as the vibrational partition function for the $r$ degree of freedom at the transition state geometry:\n",
        "\\begin{equation}\n",
        "q_{TS} = q_r^{\\ddagger}.\n",
        "\\end{equation}\n",
        "\n",
        "The $\\gamma^{\\ddagger}$ vibrational degree of freedom (the H-C-N bend at the transition state geometry) is related to the constant $k_2$, namely\n",
        "\\begin{equation}\n",
        "k_2 = \\nu_{gamma}^{\\ddagger}\n",
        "\\end{equation}\n",
        "where $\\nu_{gamma}^{\\ddagger}$ is the vibrational frequency of the H-C-N bend at the transition state geometry.\n",
        "\n",
        "The vibrational partition functions for a given mode $j$ can be evaluated as follows:\n",
        "\\begin{equation}\n",
        "q_j = \\frac{{\\rm exp}\\left( -\\frac{h \\nu_j}{2k_B T} \\right)}{1-{\\rm exp}\\left( -\\frac{h \\nu_j}{k_B T}\\right)},\n",
        "\\end{equation}\n",
        "where $h$ is Planck's constant, $\\nu_j$ is the vibrational frequency associated with mode $j$, $k_B$ is Boltzmann's constant, and $T$ is the temperature.\n",
        "\n",
        "### Question 2: Write a function that computes the vibrational partition function given a vibrational frequency $\\nu_j$ and temperature $T$"
      ]
    },
    {
      "cell_type": "code",
      "metadata": {
        "id": "OBjCHkLzHDPW"
      },
      "source": [
        "def q_vib(nu, T):\n",
        "  ''' Code to compute vibrational partition function goes here! '''\n",
        "  return q"
      ],
      "execution_count": null,
      "outputs": []
    },
    {
      "cell_type": "markdown",
      "metadata": {
        "id": "9NKgPVl-HOjf"
      },
      "source": [
        "### Question 3: Compute $q_R$ and $q_{TS}$ assuming the following:\n",
        "$T$ = 300 K\n",
        "\n",
        "$\\nu_r = 1.3 \\cdot 10^{14} s^{-1}$ \n",
        "\n",
        "$\\nu_{\\gamma} = 6.8 \\cdot 10^{13} s^{-1}$ \n",
        "\n",
        "$\\nu_{\\gamma}^{\\ddagger} = 1.3 \\cdot 10^{14} s^{-1}$ \n"
      ]
    },
    {
      "cell_type": "code",
      "metadata": {
        "id": "NIGL04QFPe30"
      },
      "source": [
        "''' define variables that will hold the various vibrational frequencies and Temperature '''\n",
        "\n",
        "\n",
        "''' compute various vibrational partition functions '''\n",
        "\n",
        "''' Compute the total partition functions '''"
      ],
      "execution_count": null,
      "outputs": []
    },
    {
      "cell_type": "markdown",
      "metadata": {
        "id": "b-E8nkn1QZxb"
      },
      "source": [
        "### Question 4:  Write a function to compute $K^{\\ddagger}$ given the partition functions for reactants and transition states, the temperature, and the activation energy"
      ]
    },
    {
      "cell_type": "code",
      "metadata": {
        "id": "Snd6tgHsQaOP"
      },
      "source": [
        "def k_double_dagger(qr, qts, Ea, T):\n",
        "  ''' qr is the reactant partition function, \n",
        "      qts is the transition state partition function\n",
        "      Ea is the activation energy\n",
        "      T is the temperature '''\n",
        "\n",
        "      return Kdd"
      ],
      "execution_count": null,
      "outputs": []
    },
    {
      "cell_type": "markdown",
      "metadata": {
        "id": "UvEmMvXoPwhQ"
      },
      "source": [
        "### Question 5: Compute $K^{\\ddagger}$ assuming $E_{TS} - E_R = 3.1 \\cdot 10^{-19} J$ and T = 300"
      ]
    },
    {
      "cell_type": "code",
      "metadata": {
        "id": "8v8_U7K8RShr"
      },
      "source": [
        "''' Compute Kdd here by calling the function we wrote above! '''"
      ],
      "execution_count": null,
      "outputs": []
    },
    {
      "cell_type": "markdown",
      "metadata": {
        "id": "SHeGAAd6RWRC"
      },
      "source": [
        "### Question 6: Compute the effective rate constant assuming $k_2 = 3.4 \\cdot 10^{13} s^{-1}$"
      ]
    },
    {
      "cell_type": "code",
      "metadata": {
        "id": "DnMIBNYalhik"
      },
      "source": [
        "''' Compute effective rate constant here '''"
      ],
      "execution_count": null,
      "outputs": []
    },
    {
      "cell_type": "markdown",
      "metadata": {
        "id": "oogeIDcylovj"
      },
      "source": [
        "### Question 7: Compute the reactant concentration as a function of time assuming an initial reactant concentration of 1 molar.  \n",
        "\n",
        "We will report the time in reduced units where the time in seconds is divided by the time constant $\\kappa = \\frac{1}{k_2 K^{\\ddagger}}$."
      ]
    },
    {
      "cell_type": "code",
      "metadata": {
        "id": "DyB2_pJGnZ8T"
      },
      "source": [
        "''' an array of time values between 0 and 6 reduced time units '''\n",
        "reduced_time = np.linspace(0,6,100)\n",
        "\n",
        "''' compute R_vs_time and store to the array R_v_t '''\n",
        "\n",
        "''' compute P_vs_time and store to the array P_v_t '''\n",
        "\n",
        "\n",
        "''' plot the product and reactant concentrations vs time '''\n",
        "plt.plot(reduced_time, R_v_t, 'red', label='[R](t)' )\n",
        "plt.plot(reduced_time, P_v_t, 'blue', label='[P](t)' )\n",
        "plt.show()\n",
        "\n"
      ],
      "execution_count": null,
      "outputs": []
    },
    {
      "cell_type": "markdown",
      "metadata": {
        "id": "wrtVpmmtow0J"
      },
      "source": [
        "### Question 8: How does the time-dependence of the reactant and product concentration change if $E_{TS} - E_R = 6.3 \\cdot 10^{-19} J$?\n",
        "\n",
        "\n",
        "### Question 8: How does the time-dependence of the reactant and product concentration change if $E_{TS} - E_R = 1.1 \\cdot 10^{-19} J$?\n",
        "\n",
        "\n",
        "### Question 8: How does the time-dependence of the reactant and product concentration change if the temperature is 500 K assuming\n",
        "$E_{TS} - E_R = 3.1 \\cdot 10^{-19} J$?\n",
        "\n",
        "\n",
        "### Question 9: How does the time-dependence of the reactant and product concentration change if the temperature is 200 K $E_{TS} - E_R = 3.1 \\cdot 10^{-19} J$??\n"
      ]
    }
  ]
}